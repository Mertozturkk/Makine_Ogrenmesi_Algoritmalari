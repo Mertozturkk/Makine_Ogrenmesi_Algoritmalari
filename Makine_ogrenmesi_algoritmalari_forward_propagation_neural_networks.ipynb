{
 "cells": [
  {
   "cell_type": "code",
   "execution_count": 4,
   "metadata": {},
   "outputs": [],
   "source": [
    "def add_bias(X):\n",
    "    return np.insert(X, 0, 1, axis=1)\n",
    "\n",
    "def sigmoid(z):\n",
    "    return 1 / (1 + np.exp(-z))\n",
    "def softmax(li):\n",
    "    exp_of_li = np.exp(li)\n",
    "    sum_of_exp_of_li = np.sum(exp_of_li, axis=1).reshape(-1, 1)\n",
    "    return exp_of_li / sum_of_exp_of_li\n",
    "\n",
    "def forward_pass(X, p1_weights, p2_weights):\n",
    "    \"\"\"\n",
    "    X: girdi katmanı (Öznitelikler matrisi)\n",
    "    p1_weights : 1.perceptronun ağırlık matrisi\n",
    "    p2_weights : 2.perceptronun ağırlık matrisi\n",
    "    \"\"\"\n",
    "    hidden_layer = sigmoid(np.matmul(add_bias(X), p1_weights))\n",
    "    output_layer = softmax(np.matmul(add_bias(hidden_layer), p2_weights))\n",
    "    return output_layer\n",
    "\n",
    "\n"
   ]
  },
  {
   "cell_type": "code",
   "execution_count": 5,
   "metadata": {},
   "outputs": [
    {
     "ename": "NameError",
     "evalue": "name 'X' is not defined",
     "output_type": "error",
     "traceback": [
      "\u001b[1;31m---------------------------------------------------------------------------\u001b[0m",
      "\u001b[1;31mNameError\u001b[0m                                 Traceback (most recent call last)",
      "\u001b[1;32m<ipython-input-5-e1aa757b421b>\u001b[0m in \u001b[0;36m<module>\u001b[1;34m\u001b[0m\n\u001b[1;32m----> 1\u001b[1;33m \u001b[0mhidden_layer\u001b[0m \u001b[1;33m=\u001b[0m \u001b[0msigmoid\u001b[0m\u001b[1;33m(\u001b[0m\u001b[0mnp\u001b[0m\u001b[1;33m.\u001b[0m\u001b[0mmatmul\u001b[0m\u001b[1;33m(\u001b[0m\u001b[0mX\u001b[0m\u001b[1;33m,\u001b[0m \u001b[0mweights_1\u001b[0m\u001b[1;33m)\u001b[0m\u001b[1;33m)\u001b[0m\u001b[1;33m\u001b[0m\u001b[1;33m\u001b[0m\u001b[0m\n\u001b[0m\u001b[0;32m      2\u001b[0m \u001b[0moutput_layer\u001b[0m \u001b[1;33m=\u001b[0m \u001b[0msoftmax\u001b[0m\u001b[1;33m(\u001b[0m\u001b[0mnp\u001b[0m\u001b[1;33m.\u001b[0m\u001b[0mmatmul\u001b[0m\u001b[1;33m(\u001b[0m\u001b[0mhidden_layer\u001b[0m\u001b[1;33m,\u001b[0m \u001b[0mweights_2\u001b[0m\u001b[1;33m)\u001b[0m\u001b[1;33m)\u001b[0m \u001b[1;31m# 60000, 10\u001b[0m\u001b[1;33m\u001b[0m\u001b[1;33m\u001b[0m\u001b[0m\n",
      "\u001b[1;31mNameError\u001b[0m: name 'X' is not defined"
     ]
    }
   ],
   "source": [
    "hidden_layer = sigmoid(np.matmul(X, weights_1))\n",
    "output_layer = softmax(np.matmul(hidden_layer, weights_2)) # 60000, 10"
   ]
  },
  {
   "cell_type": "markdown",
   "metadata": {},
   "source": [
    "$softmax(l_i)=\\frac{\\exp{l_i}}{\\sum\\exp{l_i}} $"
   ]
  },
  {
   "cell_type": "code",
   "execution_count": 6,
   "metadata": {},
   "outputs": [],
   "source": [
    "def softmax(li):\n",
    "    exp_of_li = np.exp(li)\n",
    "    sum_of_exp_of_li = np.sum(exp_of_li, axis=1).reshape(-1, 1)\n",
    "    return exp_of_li / sum_of_exp_of_li"
   ]
  },
  {
   "cell_type": "code",
   "execution_count": 7,
   "metadata": {},
   "outputs": [
    {
     "data": {
      "text/plain": [
       "(array([[0.2, 0.4, 0.6],\n",
       "        [0.1, 0.3, 0.5]]),\n",
       " (2, 3))"
      ]
     },
     "execution_count": 7,
     "metadata": {},
     "output_type": "execute_result"
    }
   ],
   "source": [
    "import numpy as np \n",
    "\n",
    "ex_data = np.array([[0.2, 0.4, 0.6], [0.1, 0.3, 0.5]])\n",
    "\n",
    "ex_data, ex_data.shape"
   ]
  },
  {
   "cell_type": "code",
   "execution_count": 8,
   "metadata": {},
   "outputs": [
    {
     "data": {
      "text/plain": [
       "array([[1.22140276, 1.4918247 , 1.8221188 ],\n",
       "       [1.10517092, 1.34985881, 1.64872127]])"
      ]
     },
     "execution_count": 8,
     "metadata": {},
     "output_type": "execute_result"
    }
   ],
   "source": [
    "exp_data = np.exp(ex_data)\n",
    "exp_data"
   ]
  },
  {
   "cell_type": "code",
   "execution_count": 9,
   "metadata": {},
   "outputs": [
    {
     "data": {
      "text/plain": [
       "(array([[4.53534626],\n",
       "        [4.103751  ]]),\n",
       " (2, 1))"
      ]
     },
     "execution_count": 9,
     "metadata": {},
     "output_type": "execute_result"
    }
   ],
   "source": [
    "a = np.sum(exp_data, axis=1)\n",
    "a.shape\n",
    "\n",
    "b = a.reshape(-1, 1)\n",
    "\n",
    "b, b.shape"
   ]
  },
  {
   "cell_type": "code",
   "execution_count": 10,
   "metadata": {},
   "outputs": [
    {
     "data": {
      "text/plain": [
       "array([[0.2693075 , 0.32893292, 0.40175958],\n",
       "       [0.2693075 , 0.32893292, 0.40175958]])"
      ]
     },
     "execution_count": 10,
     "metadata": {},
     "output_type": "execute_result"
    }
   ],
   "source": [
    "exp_data / np.sum(exp_data, axis=1).reshape(-1,1)"
   ]
  },
  {
   "cell_type": "code",
   "execution_count": 11,
   "metadata": {},
   "outputs": [
    {
     "data": {
      "text/plain": [
       "array([[7.58256042e-10, 9.99999999e-01]])"
      ]
     },
     "execution_count": 11,
     "metadata": {},
     "output_type": "execute_result"
    }
   ],
   "source": [
    "softmax(np.array([[1, 22]]))"
   ]
  },
  {
   "cell_type": "code",
   "execution_count": 12,
   "metadata": {},
   "outputs": [
    {
     "name": "stderr",
     "output_type": "stream",
     "text": [
      "<ipython-input-6-7e4df9a4c090>:2: RuntimeWarning: overflow encountered in exp\n",
      "  exp_of_li = np.exp(li)\n",
      "<ipython-input-6-7e4df9a4c090>:4: RuntimeWarning: invalid value encountered in true_divide\n",
      "  return exp_of_li / sum_of_exp_of_li\n"
     ]
    },
    {
     "data": {
      "text/plain": [
       "array([[ 0., nan]])"
      ]
     },
     "execution_count": 12,
     "metadata": {},
     "output_type": "execute_result"
    }
   ],
   "source": [
    "softmax(np.array([[1, 1000]]))"
   ]
  },
  {
   "cell_type": "code",
   "execution_count": 13,
   "metadata": {},
   "outputs": [],
   "source": [
    "# log softmax\n",
    "\n",
    "# https://nolanbconaway.github.io/blog/2017/softmax-numpy"
   ]
  },
  {
   "cell_type": "code",
   "execution_count": 14,
   "metadata": {},
   "outputs": [],
   "source": [
    "def classify_or_prediction(X, w1, w2):\n",
    "        return np.argmax(forward_pass(X, w1, w2), axis=1).reshape(-1,1)"
   ]
  },
  {
   "cell_type": "markdown",
   "metadata": {},
   "source": [
    "\\begin{equation}\n",
    "J(\\theta) = CE({\\boldsymbol y},\\hat{\\boldsymbol y}) = - \\frac{1}{m}\\sum^{\\textrm{m}}_{i=1} y_{i}\\log({\\hat{y}}_{i})\n",
    "\\end{equation}"
   ]
  },
  {
   "cell_type": "markdown",
   "metadata": {},
   "source": [
    "# Cross Entropy Loss\n",
    "\n",
    "https://machinelearningmastery.com/cross-entropy-for-machine-learning/"
   ]
  },
  {
   "cell_type": "code",
   "execution_count": 15,
   "metadata": {},
   "outputs": [],
   "source": [
    "def ce_loss(Y, Y_prediction):\n",
    "    return -np.sum(Y * np.log(Y_prediction))/ Y.shape[0]"
   ]
  },
  {
   "cell_type": "code",
   "execution_count": null,
   "metadata": {},
   "outputs": [],
   "source": []
  }
 ],
 "metadata": {
  "kernelspec": {
   "display_name": "Python 3",
   "language": "python",
   "name": "python3"
  },
  "language_info": {
   "codemirror_mode": {
    "name": "ipython",
    "version": 3
   },
   "file_extension": ".py",
   "mimetype": "text/x-python",
   "name": "python",
   "nbconvert_exporter": "python",
   "pygments_lexer": "ipython3",
   "version": "3.8.3"
  }
 },
 "nbformat": 4,
 "nbformat_minor": 2
}
